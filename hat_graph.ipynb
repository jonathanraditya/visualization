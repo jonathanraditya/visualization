{
 "cells": [
  {
   "cell_type": "markdown",
   "id": "886644cd-0954-41b5-bbf0-0fbe626e162a",
   "metadata": {},
   "source": [
    "Derived from https://matplotlib.org/stable/gallery/lines_bars_and_markers/hat_graph.html with slight modifications\n",
    "\n",
    "# Hat graph\n",
    "This example shows how to create a hat graph and how to annotate it with labels\n",
    "\n",
    "Basically, this chart type is a hanging-bar implementation that leverage `bottom` parameter in Axes.bar"
   ]
  },
  {
   "cell_type": "code",
   "execution_count": 1,
   "id": "20c9c38c-ab1a-41d0-8284-9cfe82615a8f",
   "metadata": {},
   "outputs": [
    {
     "name": "stdout",
     "output_type": "stream",
     "text": [
      "Python 3.8.18\n",
      "Matplotlib version: 3.7.2\n",
      "Numpy version: 1.24.3\n"
     ]
    }
   ],
   "source": [
    "import matplotlib as mpl\n",
    "import matplotlib.pyplot as plt\n",
    "import numpy as np\n",
    "\n",
    "!python --version\n",
    "print(f'Matplotlib version: {mpl.__version__}')\n",
    "print(f'Numpy version: {np.__version__}')"
   ]
  },
  {
   "cell_type": "code",
   "execution_count": 21,
   "id": "6907bc15-827f-4cdb-bdc4-5ab5c65c6dd3",
   "metadata": {},
   "outputs": [
    {
     "data": {
      "image/png": "[encoded data removed]",
      "text/plain": [
       "<Figure size 640x480 with 1 Axes>"
      ]
     },
     "metadata": {},
     "output_type": "display_data"
    }
   ],
   "source": [
    "int = 1\n",
    "x = np.arange(1,6,int)\n",
    "xl = ('I','II','III','IV','V')\n",
    "l = ('Player A', 'Player B')\n",
    "y1 = (5,15,22,20,25)\n",
    "y2 = (25,32,34,30,27)\n",
    "w = 0.3 * int\n",
    "\n",
    "fig, ax = plt.subplots()\n",
    "\n",
    "for _, (i, j, k) in enumerate(zip(x, y1, y2)):\n",
    "    a = ax.bar(i, 0, w, bottom=j, fill=False, label=l[0] if _ == 0 else f'_{l[0]}')\n",
    "    ax.bar_label(a, padding=5)\n",
    "    b = ax.bar(i + w, k - j, w, bottom=j, edgecolor='black', color='tab:orange', label=l[1] if _ == 0 else f'_{l[1]}')\n",
    "    ax.bar_label(b, padding=5)\n",
    "\n",
    "ax.set(title='Scores by number of game and players', xlabel='Games', ylabel='Score', ylim=(0,60))\n",
    "ax.set_xticks(x, xl)\n",
    "ax.legend()\n",
    "\n",
    "plt.show()"
   ]
  },
  {
   "cell_type": "code",
   "execution_count": null,
   "id": "38ec6bc4-727d-4690-8bf3-d347ee0a1424",
   "metadata": {},
   "outputs": [],
   "source": []
  },
  {
   "cell_type": "code",
   "execution_count": 19,
   "id": "bdc2b484-749c-4b18-8466-9dda90dbd542",
   "metadata": {},
   "outputs": [
    {
     "data": {
      "text/plain": [
       "\u001b[0;31mSignature:\u001b[0m\n",
       "\u001b[0max\u001b[0m\u001b[0;34m.\u001b[0m\u001b[0mbar_label\u001b[0m\u001b[0;34m(\u001b[0m\u001b[0;34m\u001b[0m\n",
       "\u001b[0;34m\u001b[0m    \u001b[0mcontainer\u001b[0m\u001b[0;34m,\u001b[0m\u001b[0;34m\u001b[0m\n",
       "\u001b[0;34m\u001b[0m    \u001b[0mlabels\u001b[0m\u001b[0;34m=\u001b[0m\u001b[0;32mNone\u001b[0m\u001b[0;34m,\u001b[0m\u001b[0;34m\u001b[0m\n",
       "\u001b[0;34m\u001b[0m    \u001b[0;34m*\u001b[0m\u001b[0;34m,\u001b[0m\u001b[0;34m\u001b[0m\n",
       "\u001b[0;34m\u001b[0m    \u001b[0mfmt\u001b[0m\u001b[0;34m=\u001b[0m\u001b[0;34m'%g'\u001b[0m\u001b[0;34m,\u001b[0m\u001b[0;34m\u001b[0m\n",
       "\u001b[0;34m\u001b[0m    \u001b[0mlabel_type\u001b[0m\u001b[0;34m=\u001b[0m\u001b[0;34m'edge'\u001b[0m\u001b[0;34m,\u001b[0m\u001b[0;34m\u001b[0m\n",
       "\u001b[0;34m\u001b[0m    \u001b[0mpadding\u001b[0m\u001b[0;34m=\u001b[0m\u001b[0;36m0\u001b[0m\u001b[0;34m,\u001b[0m\u001b[0;34m\u001b[0m\n",
       "\u001b[0;34m\u001b[0m    \u001b[0;34m**\u001b[0m\u001b[0mkwargs\u001b[0m\u001b[0;34m,\u001b[0m\u001b[0;34m\u001b[0m\n",
       "\u001b[0;34m\u001b[0m\u001b[0;34m)\u001b[0m\u001b[0;34m\u001b[0m\u001b[0;34m\u001b[0m\u001b[0m\n",
       "\u001b[0;31mDocstring:\u001b[0m\n",
       "Label a bar plot.\n",
       "\n",
       "Adds labels to bars in the given `.BarContainer`.\n",
       "You may need to adjust the axis limits to fit the labels.\n",
       "\n",
       "Parameters\n",
       "----------\n",
       "container : `.BarContainer`\n",
       "    Container with all the bars and optionally errorbars, likely\n",
       "    returned from `.bar` or `.barh`.\n",
       "\n",
       "labels : array-like, optional\n",
       "    A list of label texts, that should be displayed. If not given, the\n",
       "    label texts will be the data values formatted with *fmt*.\n",
       "\n",
       "fmt : str or callable, default: '%g'\n",
       "    An unnamed %-style or {}-style format string for the label or a\n",
       "    function to call with the value as the first argument.\n",
       "    When *fmt* is a string and can be interpreted in both formats,\n",
       "    %-style takes precedence over {}-style.\n",
       "\n",
       "    .. versionadded:: 3.7\n",
       "       Support for {}-style format string and callables.\n",
       "\n",
       "label_type : {'edge', 'center'}, default: 'edge'\n",
       "    The label type. Possible values:\n",
       "\n",
       "    - 'edge': label placed at the end-point of the bar segment, and the\n",
       "      value displayed will be the position of that end-point.\n",
       "    - 'center': label placed in the center of the bar segment, and the\n",
       "      value displayed will be the length of that segment.\n",
       "      (useful for stacked bars, i.e.,\n",
       "      :doc:`/gallery/lines_bars_and_markers/bar_label_demo`)\n",
       "\n",
       "padding : float, default: 0\n",
       "    Distance of label from the end of the bar, in points.\n",
       "\n",
       "**kwargs\n",
       "    Any remaining keyword arguments are passed through to\n",
       "    `.Axes.annotate`. The alignment parameters (\n",
       "    *horizontalalignment* / *ha*, *verticalalignment* / *va*) are\n",
       "    not supported because the labels are automatically aligned to\n",
       "    the bars.\n",
       "\n",
       "Returns\n",
       "-------\n",
       "list of `.Text`\n",
       "    A list of `.Text` instances for the labels.\n",
       "\u001b[0;31mFile:\u001b[0m      ~/anaconda3/envs/matplotlib/lib/python3.8/site-packages/matplotlib/axes/_axes.py\n",
       "\u001b[0;31mType:\u001b[0m      method"
      ]
     },
     "metadata": {},
     "output_type": "display_data"
    }
   ],
   "source": [
    "ax.bar_label?"
   ]
  },
  {
   "cell_type": "code",
   "execution_count": null,
   "id": "376d03e2-a7cd-481f-b57d-921e998080d3",
   "metadata": {},
   "outputs": [],
   "source": []
  },
  {
   "cell_type": "code",
   "execution_count": null,
   "id": "42503b4e-33e6-46b3-a194-5bdee6bfcb37",
   "metadata": {},
   "outputs": [],
   "source": []
  },
  {
   "cell_type": "code",
   "execution_count": null,
   "id": "01d2d0e9-07c8-43c9-8aa1-c74d68707251",
   "metadata": {},
   "outputs": [],
   "source": []
  },
  {
   "cell_type": "code",
   "execution_count": null,
   "id": "f89d8380-1f08-4f4b-bb09-61727e9cacdd",
   "metadata": {},
   "outputs": [],
   "source": []
  },
  {
   "cell_type": "code",
   "execution_count": null,
   "id": "bc5ee265-c1c2-4015-8102-bcc1978825f8",
   "metadata": {},
   "outputs": [],
   "source": []
  },
  {
   "cell_type": "code",
   "execution_count": null,
   "id": "676fac62-7bd5-4d7c-8494-58c45c251c74",
   "metadata": {},
   "outputs": [],
   "source": []
  },
  {
   "cell_type": "code",
   "execution_count": null,
   "id": "0578d67e-9073-4db3-a2a4-fbb38399ffee",
   "metadata": {},
   "outputs": [],
   "source": []
  },
  {
   "cell_type": "code",
   "execution_count": null,
   "id": "81e3a823-ba87-4617-babd-96d0b69addb1",
   "metadata": {},
   "outputs": [],
   "source": []
  },
  {
   "cell_type": "code",
   "execution_count": null,
   "id": "419cce8d-e902-46e1-a2a8-e959485f96d7",
   "metadata": {},
   "outputs": [],
   "source": []
  },
  {
   "cell_type": "code",
   "execution_count": null,
   "id": "28503920-39b4-481d-afbe-9f4b40838ae5",
   "metadata": {},
   "outputs": [],
   "source": []
  },
  {
   "cell_type": "code",
   "execution_count": null,
   "id": "e1073318-f792-4c9b-9b19-cc76c2639c21",
   "metadata": {},
   "outputs": [],
   "source": []
  }
 ],
 "metadata": {
  "kernelspec": {
   "display_name": "Python [conda env:matplotlib]",
   "language": "python",
   "name": "conda-env-matplotlib-py"
  },
  "language_info": {
   "codemirror_mode": {
    "name": "ipython",
    "version": 3
   },
   "file_extension": ".py",
   "mimetype": "text/x-python",
   "name": "python",
   "nbconvert_exporter": "python",
   "pygments_lexer": "ipython3",
   "version": "3.8.18"
  }
 },
 "nbformat": 4,
 "nbformat_minor": 5
}
